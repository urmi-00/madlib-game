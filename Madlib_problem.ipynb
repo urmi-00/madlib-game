{
  "nbformat": 4,
  "nbformat_minor": 0,
  "metadata": {
    "colab": {
      "provenance": [],
      "authorship_tag": "ABX9TyM/xZRiiZerwuziRIeia1TN",
      "include_colab_link": true
    },
    "kernelspec": {
      "name": "python3",
      "display_name": "Python 3"
    },
    "language_info": {
      "name": "python"
    }
  },
  "cells": [
    {
      "cell_type": "markdown",
      "metadata": {
        "id": "view-in-github",
        "colab_type": "text"
      },
      "source": [
        "<a href=\"https://colab.research.google.com/github/urmi-00/madlib-game/blob/main/Madlib_problem.ipynb\" target=\"_parent\"><img src=\"https://colab.research.google.com/assets/colab-badge.svg\" alt=\"Open In Colab\"/></a>"
      ]
    },
    {
      "cell_type": "code",
      "source": [
        "\"\"\"Simple Mad Libs Game\"\"\"\n",
        "\n",
        "\n",
        "def time_travel_mad_lib():\n",
        "    print(\"\\n MAD LIB GAMES \\n\")\n",
        "\n",
        "    # Collect inputs from the user\n",
        "    noun1 = input(\"Enter a noun (thing): \")\n",
        "    noun2 = input(\"Enter a noun (place): \")\n",
        "    verb1 = input(\"Enter a verb (action): \")\n",
        "    verb2 = input(\"Enter a verb (action): \")\n",
        "    verb3 = input(\"Enter another verb (action): \")\n",
        "    adjective1 = input(\"Enter an adjective: \")\n",
        "    adjective2 = input(\"Enter another adjective: \")\n",
        "    number = input(\"Enter a number: \")\n",
        "    famous_person1 = input(\"Enter the name of a famous person (character): \")\n",
        "    famous_person2 = input(\"Enter the name of another famous person (character): \")\n",
        "    year = input(\"Enter a year: \")\n",
        "    time_period = input(\"Enter a time period (e.g., 'Medieval', 'Future'): \")\n",
        "    vehicle = input(\"Enter a mode of transportation: \")\n",
        "    object1 = input(\"Enter an object (something you can carry): \")\n",
        "\n",
        "    # Print the heading for the story\n",
        "    print(\"\\n--- Time Travel: The Battle for History ---\\n\")\n",
        "\n",
        "    # Print the new Mad Lib story with a different adventure theme\n",
        "    mad_lib = f\"\"\"\n",
        "    It was the year {year}, and I was about to embark on a dangerous journey through time. My partner, {famous_person1}, and I\n",
        "    were traveling in our {adjective1} {vehicle}. Our mission was to stop a terrifying event that could alter history forever.\n",
        "    We landed in {noun2}, a place where {adjective2} {noun1}s were wreaking havoc. As soon as we arrived, we saw {famous_person2},\n",
        "    who was {verb1} around trying to {verb2} the situation, but it was too chaotic. There were {number} of {noun1}s destroying everything in sight!\n",
        "\n",
        "    {famous_person1} and I quickly grabbed our {object1} and decided to {verb3} through the chaos. We knew we had only a few minutes to\n",
        "    stop the {noun1}s and prevent the catastrophe from spreading. With {famous_person2}'s help, we managed to outsmart the invaders and\n",
        "    finally restore peace to {noun2}. Our actions changed the course of history, saving the world from destruction and ensuring that the future\n",
        "    remained intact.\n",
        "    \"\"\"\n",
        "\n",
        "    print(mad_lib)\n",
        "\n",
        "# Run the Mad Lib game\n",
        "time_travel_mad_lib()\n"
      ],
      "metadata": {
        "colab": {
          "base_uri": "https://localhost:8080/"
        },
        "id": "IrF2SXHxdjTs",
        "outputId": "96e4757c-7aeb-4819-fdfe-a3d4ad3f2bca"
      },
      "execution_count": 2,
      "outputs": [
        {
          "output_type": "stream",
          "name": "stdout",
          "text": [
            "\n",
            " MAD LIB GAMES \n",
            "\n",
            "Enter a noun (thing): kuet\n",
            "Enter a noun (place): khulna\n",
            "Enter a verb (action): eating\n",
            "Enter a verb (action): kicking\n",
            "Enter another verb (action): shooting\n",
            "Enter an adjective: well\n",
            "Enter another adjective: fine\n",
            "Enter a number: 10000\n",
            "Enter the name of a famous person (character): Raju\n",
            "Enter the name of another famous person (character): Meena\n",
            "Enter a year: 234567\n",
            "Enter a time period (e.g., 'Medieval', 'Future'): Medival\n",
            "Enter a mode of transportation: Cart\n",
            "Enter an object (something you can carry): Load\n",
            "\n",
            "--- Time Travel: The Battle for History ---\n",
            "\n",
            "\n",
            "    It was the year 234567, and I was about to embark on a dangerous journey through time. My partner, Raju, and I\n",
            "    were traveling in our well Cart. Our mission was to stop a terrifying event that could alter history forever.\n",
            "    We landed in khulna, a place where fine kuets were wreaking havoc. As soon as we arrived, we saw Meena,\n",
            "    who was eating around trying to kicking the situation, but it was too chaotic. There were 10000 of kuets destroying everything in sight!\n",
            "\n",
            "    Raju and I quickly grabbed our Load and decided to shooting through the chaos. We knew we had only a few minutes to\n",
            "    stop the kuets and prevent the catastrophe from spreading. With Meena's help, we managed to outsmart the invaders and\n",
            "    finally restore peace to khulna. Our actions changed the course of history, saving the world from destruction and ensuring that the future\n",
            "    remained intact.\n",
            "    \n"
          ]
        }
      ]
    }
  ]
}